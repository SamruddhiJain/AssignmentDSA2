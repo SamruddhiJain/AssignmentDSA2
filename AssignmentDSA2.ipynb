{
 "cells": [
  {
   "cell_type": "code",
   "execution_count": 1,
   "id": "c2fca662",
   "metadata": {},
   "outputs": [
    {
     "name": "stdout",
     "output_type": "stream",
     "text": [
      "Element is present at index 3\n"
     ]
    }
   ],
   "source": [
    "#1 Program ITERATIVE Binary Search\n",
    "def binarySearch(arr, l, r, x):\n",
    " \n",
    "    while l <= r:\n",
    " \n",
    "        mid = l + (r - l) // 2\n",
    " \n",
    "        \n",
    "        if arr[mid] == x:\n",
    "            return mid\n",
    " \n",
    "        \n",
    "        elif arr[mid] < x:\n",
    "            l = mid + 1\n",
    " \n",
    "        \n",
    "        else:\n",
    "            r = mid - 1\n",
    "    return -1\n",
    " \n",
    " \n",
    "\n",
    "if __name__ == '__main__':\n",
    "    arr = [2, 3, 4, 10, 40]\n",
    "    x = 10\n",
    " \n",
    "    \n",
    "    result = binarySearch(arr, 0, len(arr)-1, x)\n",
    "    if result != -1:\n",
    "        print(\"Element is present at index\", result)\n",
    "    else:\n",
    "        print(\"Element is not present in array\")"
   ]
  },
  {
   "cell_type": "code",
   "execution_count": 3,
   "id": "4a257d96",
   "metadata": {},
   "outputs": [
    {
     "name": "stdout",
     "output_type": "stream",
     "text": [
      "Given array is\n",
      "12 11 13 5 6 7 \n",
      "\n",
      "Sorted array is\n",
      "5 6 7 11 12 13 "
     ]
    }
   ],
   "source": [
    "#2 Program\n",
    "def merge(arr, l, m, r):\n",
    "    n1 = m - l + 1\n",
    "    n2 = r - m\n",
    " \n",
    "    \n",
    "    L = [0] * (n1)\n",
    "    R = [0] * (n2)\n",
    " \n",
    "    \n",
    "    for i in range(0, n1):\n",
    "        L[i] = arr[l + i]\n",
    " \n",
    "    for j in range(0, n2):\n",
    "        R[j] = arr[m + 1 + j]\n",
    " \n",
    "    \n",
    "    i = 0     \n",
    "    j = 0     \n",
    "    k = l\n",
    "    while i < n1 and j < n2:\n",
    "        if L[i] <= R[j]:\n",
    "            arr[k] = L[i]\n",
    "            i += 1\n",
    "        else:\n",
    "            arr[k] = R[j]\n",
    "            j += 1\n",
    "        k += 1\n",
    " \n",
    "    \n",
    "    while i < n1:\n",
    "        arr[k] = L[i]\n",
    "        i += 1\n",
    "        k += 1\n",
    " \n",
    "    \n",
    "    while j < n2:\n",
    "        arr[k] = R[j]\n",
    "        j += 1\n",
    "        k += 1\n",
    "        \n",
    "def mergeSort(arr, l, r):\n",
    "    if l < r:\n",
    " \n",
    "        \n",
    "        m = l+(r-l)//2\n",
    " \n",
    "        \n",
    "        mergeSort(arr, l, m)\n",
    "        mergeSort(arr, m+1, r)\n",
    "        merge(arr, l, m, r)\n",
    " \n",
    " \n",
    "\n",
    "arr = [12, 11, 13, 5, 6, 7]\n",
    "n = len(arr)\n",
    "print(\"Given array is\")\n",
    "for i in range(n):\n",
    "    print(\"%d\" % arr[i],end=\" \")\n",
    " \n",
    "mergeSort(arr, 0, n-1)\n",
    "print(\"\\n\\nSorted array is\")\n",
    "for i in range(n):\n",
    "    print(\"%d\" % arr[i],end=\" \")\n",
    " "
   ]
  },
  {
   "cell_type": "code",
   "execution_count": 6,
   "id": "691dde07",
   "metadata": {},
   "outputs": [
    {
     "name": "stdout",
     "output_type": "stream",
     "text": [
      "Sorted array:\n",
      "1 5 7 8 9 10 "
     ]
    }
   ],
   "source": [
    "#3 Program\n",
    "def partition(array, low, high):\n",
    "\n",
    "    \n",
    "    pivot = array[high]\n",
    "\n",
    "    \n",
    "    i = low - 1\n",
    "\n",
    "    \n",
    "    for j in range(low, high):\n",
    "        if array[j] <= pivot:\n",
    "\n",
    "            \n",
    "            i = i + 1\n",
    "\n",
    "            \n",
    "            (array[i], array[j]) = (array[j], array[i])\n",
    "    (array[i + 1], array[high]) = (array[high], array[i + 1])\n",
    "\n",
    "    \n",
    "    return i + 1\n",
    "\n",
    "\n",
    "\n",
    "def quicksort(array, low, high):\n",
    "    if low < high:\n",
    "\n",
    "        \n",
    "        pi = partition(array, low, high)\n",
    "\n",
    "        \n",
    "        quicksort(array, low, pi - 1)\n",
    "\n",
    "        \n",
    "        quicksort(array, pi + 1, high)\n",
    "        \n",
    "        \n",
    "        \n",
    "if __name__ == '__main__':\n",
    "    array = [10, 7, 8, 9, 1, 5]\n",
    "    N = len(array)\n",
    "\n",
    "    # Function call\n",
    "    quicksort(array, 0, N - 1)\n",
    "    print('Sorted array:')\n",
    "    for x in array:\n",
    "        print(x, end=\" \")"
   ]
  },
  {
   "cell_type": "code",
   "execution_count": 7,
   "id": "4da92bb2",
   "metadata": {},
   "outputs": [
    {
     "name": "stdout",
     "output_type": "stream",
     "text": [
      "[5, 6, 11, 12, 13]\n"
     ]
    }
   ],
   "source": [
    "#4 Program \n",
    "def insertionSort(arr):\n",
    "    n = len(arr)  \n",
    "      \n",
    "    if n <= 1:\n",
    "        return  \n",
    " \n",
    "    for i in range(1, n):  \n",
    "        key = arr[i]  \n",
    "        j = i-1\n",
    "        while j >= 0 and key < arr[j]:  \n",
    "            arr[j+1] = arr[j]  \n",
    "            j -= 1\n",
    "        arr[j+1] = key  \n",
    "  \n",
    "\n",
    "arr = [12, 11, 13, 5, 6]\n",
    "insertionSort(arr)\n",
    "print(arr)"
   ]
  },
  {
   "cell_type": "code",
   "execution_count": 9,
   "id": "fcdfa4e8",
   "metadata": {},
   "outputs": [
    {
     "name": "stdout",
     "output_type": "stream",
     "text": [
      "The original list is : ['gfg', 'is', 'best']\n",
      "The original dictionary is : {'gfg': 56, 'is': 12, 'best': 76}\n",
      "The list after sorting : ['is', 'gfg', 'best']\n"
     ]
    }
   ],
   "source": [
    "#5 Program\n",
    "\n",
    "test_list = ['gfg', 'is', 'best']\n",
    " \n",
    "\n",
    "test_dict = {'gfg' : 56, 'is' : 12, 'best' : 76}\n",
    " \n",
    "\n",
    "print(\"The original list is : \" + str(test_list))\n",
    " \n",
    "\n",
    "print(\"The original dictionary is : \" + str(test_dict))\n",
    " \n",
    "\n",
    "res = sorted(test_list, key = lambda ele: test_dict[ele])\n",
    " \n",
    "\n",
    "print(\"The list after sorting : \" + str(res))"
   ]
  },
  {
   "cell_type": "code",
   "execution_count": null,
   "id": "3c3cc18b",
   "metadata": {},
   "outputs": [],
   "source": []
  }
 ],
 "metadata": {
  "kernelspec": {
   "display_name": "Python 3 (ipykernel)",
   "language": "python",
   "name": "python3"
  },
  "language_info": {
   "codemirror_mode": {
    "name": "ipython",
    "version": 3
   },
   "file_extension": ".py",
   "mimetype": "text/x-python",
   "name": "python",
   "nbconvert_exporter": "python",
   "pygments_lexer": "ipython3",
   "version": "3.10.9"
  }
 },
 "nbformat": 4,
 "nbformat_minor": 5
}
